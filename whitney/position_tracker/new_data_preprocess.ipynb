{
 "cells": [
  {
   "cell_type": "code",
   "execution_count": 1,
   "metadata": {},
   "outputs": [],
   "source": [
    "file_list = 'April 2017.csv  January 2018.csv  May 2017.csv  April 2018.csv  January 2019.csv  May 2018.csv  August 2017.csv  July 2017.csv  November 2017.csv  August 2018.csv  July 2018.csv  November 2018.csv  December 2017.csv  June 2017.csv  October 2017.csv  December 2018.csv  June 2018.csv  October 2018.csv  February 2018.csv  March 2017.csv  September 2017.csv  February 2019.csv  March 2018.csv  September 2018.csv'\n",
    "file_list = file_list.split('  ')\n"
   ]
  },
  {
   "cell_type": "code",
   "execution_count": 2,
   "metadata": {
    "scrolled": false
   },
   "outputs": [
    {
     "name": "stdout",
     "output_type": "stream",
     "text": [
      "['10695', 'POLICE OFFICER', ' \\t-   ', ' \\t56,058 ']\n",
      "['10264', 'PKG CASHIER', '0.8', ' \\t-   ']\n"
     ]
    }
   ],
   "source": [
    "import csv\n",
    "data = []\n",
    "for file in file_list:\n",
    "    month = file.replace('.csv', '')\n",
    "    f = open(file)\n",
    "    reader = csv.reader(f)\n",
    "    rows = list(reader)\n",
    "    for row in rows[1:]:\n",
    "        try:\n",
    "            # 正常的数据\n",
    "            new_row = [month] + row\n",
    "            new_row[0] = new_row[0].replace(' 20', '-')\n",
    "            new_row[1] = int(new_row[1].strip())\n",
    "            new_row[3] = float(new_row[3].strip())\n",
    "            new_row[4] = float(new_row[4].strip().replace(',', ''))\n",
    "            data.append(new_row)\n",
    "        except:\n",
    "            if row[0] == 'VACANT':\n",
    "                # 职位空缺\n",
    "                data.append([month, None, None, None, None])\n",
    "            elif row[0] == '' or row[0] == '-':\n",
    "                # 数据缺失\n",
    "                pass\n",
    "            else:\n",
    "                # 部分数据缺失\n",
    "                print(row)"
   ]
  },
  {
   "cell_type": "code",
   "execution_count": 31,
   "metadata": {},
   "outputs": [],
   "source": [
    "import pandas as pd\n",
    "\n",
    "df = pd.DataFrame(data, columns = ['Month', 'Employee #', 'Filled Position Description', 'Filled FTE Percent', 'Current Salary'])\n"
   ]
  },
  {
   "cell_type": "code",
   "execution_count": 34,
   "metadata": {},
   "outputs": [],
   "source": [
    "dump = df.to_csv(index = False)\n",
    "f = open('alldata.csv', 'w')\n",
    "f.write(dump)\n",
    "f.close()"
   ]
  },
  {
   "cell_type": "code",
   "execution_count": null,
   "metadata": {},
   "outputs": [],
   "source": []
  }
 ],
 "metadata": {
  "kernelspec": {
   "display_name": "Python 3",
   "language": "python",
   "name": "python3"
  },
  "language_info": {
   "codemirror_mode": {
    "name": "ipython",
    "version": 3
   },
   "file_extension": ".py",
   "mimetype": "text/x-python",
   "name": "python",
   "nbconvert_exporter": "python",
   "pygments_lexer": "ipython3",
   "version": "3.7.3"
  }
 },
 "nbformat": 4,
 "nbformat_minor": 2
}
