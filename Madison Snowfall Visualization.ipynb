{
 "cells": [
  {
   "cell_type": "code",
   "execution_count": 3,
   "metadata": {},
   "outputs": [],
   "source": [
    "import os\n",
    "import pandas as pd\n",
    "import numpy as np\n",
    "import matplotlib.pyplot as plt\n",
    "import seaborn as sns\n",
    "sns.set(style=\"white\")\n",
    "sns.despine()\n",
    "from dateutil import parser\n",
    "import calendar\n",
    "\n",
    "# snowdepth vs cumulative snowfall"
   ]
  },
  {
   "cell_type": "code",
   "execution_count": 4,
   "metadata": {},
   "outputs": [
    {
     "name": "stderr",
     "output_type": "stream",
     "text": [
      "c:\\users\\rao_s\\appdata\\local\\programs\\python\\python36\\lib\\site-packages\\IPython\\core\\interactiveshell.py:3020: DtypeWarning: Columns (19,25,26,27,28,30,31,41,42,43,49,58,59,69,71,75,88,89) have mixed types. Specify dtype option on import or set low_memory=False.\n",
      "  interactivity=interactivity, compiler=compiler, result=result)\n"
     ]
    }
   ],
   "source": [
    "weather_df = pd.read_csv('~/Downloads/1643302.csv')\n",
    "\n",
    "city_df = pd.read_csv('~/Downloads/csv-zusammenfuehren.de_7gr2scwy.csv')\n",
    "city_df[\"AMOUNT\"]=city_df[\"AMOUNT\"].str.replace(',','')\n",
    "city_df[\"AMOUNT\"]=pd.to_numeric(city_df[\"AMOUNT\"])\n",
    "m=[]\n",
    "y=[]\n",
    "for i in city_df['EFF DATE']:\n",
    "    d=parser.parse(i)\n",
    "    m.append(d.strftime(\"%m\"))\n",
    "    y.append(d.strftime(\"%Y\"))\n",
    "city_df['MONTH'] = m\n",
    "city_df['YEAR'] = y\n",
    "c_df = city_df[['ORG', 'OBJECT', 'DESCRIPTION', 'YEAR', 'MONTH', 'AMOUNT', 'EFF DATE']]\n",
    "c_df = c_df.drop(c_df[c_df.YEAR == '2019'].index)\n",
    "#c_df = c_df.drop(c_df[(c_df.MONTH == '06') | (c_df.MONTH == '07') | (c_df.MONTH == '08') | (c_df.MONTH == '09')].index)"
   ]
  },
  {
   "cell_type": "code",
   "execution_count": 5,
   "metadata": {},
   "outputs": [],
   "source": [
    "# cleaning the data of NAN values\n",
    "# this removes ~96% of the data (snowfall and snow depth is not recorded hourly)\n",
    "# data internally uses T to represent no snowfall, we will remove that as well\n",
    "\n",
    "weather_df['DailySnowfall'].replace('T', np.nan, inplace=True)\n",
    "weather_df.dropna(subset=['DailySnowfall'], inplace=True)\n",
    "\n",
    "weather_df['DailySnowDepth'].replace('T', np.nan, inplace=True)\n",
    "weather_df.dropna(subset=['DailySnowDepth'], inplace=True)\n",
    "\n",
    "# converting the columns to numeric from object type\n",
    "\n",
    "weather_df[\"DailySnowfall\"]=pd.to_numeric(weather_df[\"DailySnowfall\"], errors='ignore')\n",
    "weather_df[\"DailySnowDepth\"]=pd.to_numeric(weather_df[\"DailySnowDepth\"], errors='ignore')\n",
    "\n",
    "# slicing date to add a new column year\n",
    "weather_df['YEAR']=weather_df['DATE'].str.slice(start=0, stop=4)\n",
    "weather_df[\"YEAR\"]=pd.to_numeric(weather_df[\"YEAR\"], errors='ignore')\n",
    "\n",
    "weather_df['MONTH'] = weather_df['DATE'].str.slice(start=5, stop=7)\n",
    "for i in weather_df['MONTH']:\n",
    "    if len(i) == 1:\n",
    "        i=\"0\"+i\n",
    "#weather_df[\"MONTH\"]=pd.to_numeric(weather_df[\"MONTH\"], errors='ignore')\n",
    "weather_df['MONTH']\n",
    "w_df = weather_df[['DailySnowfall', \"DailySnowDepth\", \"MONTH\", \"YEAR\", \"DATE\"]]\n",
    "w_df = w_df.drop(w_df[w_df.YEAR == 2019].index)\n",
    "#w_df = w_df.drop(w_df[(w_df.MONTH == 6) | (w_df.MONTH == 7) | (w_df.MONTH == 8) | (w_df.MONTH == 9)].index)\n",
    "#w_df\n",
    "#winter_df = weather_df.loc[(weather_df['MONTH'] == '03') | (weather_df['MONTH'] == '02') | (weather_df['MONTH'] == '01')]\n",
    "#winter_df\n",
    "\n",
    "#concatenated=pd.concat([w_df.assign(dataset=\"w_df\"), c_df.assign(dataset=\"c_df\")], sort=False)\n",
    "#concatenated"
   ]
  },
  {
   "cell_type": "code",
   "execution_count": 6,
   "metadata": {},
   "outputs": [],
   "source": [
    "# lets look at the shape of the distribution of both snowfall and snow depth\n",
    "#val = weather_df['DailySnowDepth'].values\n",
    "#sns.distplot(val, rug=True, color=\"b\");\n",
    "#weather_df['DailySnowDepth'].values"
   ]
  },
  {
   "cell_type": "code",
   "execution_count": 7,
   "metadata": {},
   "outputs": [],
   "source": [
    "# scatterplot of snowfall vs snowdepth\n",
    "# histogram on the axes\n",
    "# can see that there is a wide variation of snow depths that correspond to amount of daily snowfall\n",
    "# there is unlikely to be much correlation\n",
    "\n",
    "#sns.jointplot(x=\"DailySnowfall\", y=\"DailySnowDepth\", height=20, data=weather_df, kind=\"reg\");"
   ]
  },
  {
   "cell_type": "code",
   "execution_count": 8,
   "metadata": {},
   "outputs": [],
   "source": [
    "# another cool way to visualize this data\n",
    "# we can see the distribution seems mostly random\n",
    "\n",
    "#sns.pairplot(weather_df, vars=[\"DailySnowfall\", \"DailySnowDepth\"], hue=\"YEAR\", height=5);"
   ]
  },
  {
   "cell_type": "code",
   "execution_count": 9,
   "metadata": {},
   "outputs": [],
   "source": [
    "# just to be sure there isn't much correlation, let us look at a scatterplot of daily snowfall vs snow depth\n",
    "# we can see that there is a lot of variation in this data\n",
    "# 2019 does however seem to have a lot of variation which suggests scattered snowfall\n",
    "\n",
    "#ax = sns.scatterplot(x=\"DailySnowfall\", y=\"DailySnowDepth\", data=w_df, hue='YEAR')\n",
    "#plt;"
   ]
  },
  {
   "cell_type": "code",
   "execution_count": 10,
   "metadata": {},
   "outputs": [
    {
     "data": {
      "text/plain": [
       "'def hexbin(x, y, color, **kwargs):\\n    cmap = sns.light_palette(color, as_cmap=True, n_colors=100)\\n    plt.hexbin(x, y, gridsize=12, cmap=cmap, **kwargs)\\n\\nwith sns.axes_style(\"white\"):\\n    g = sns.FacetGrid(w_df, hue=\"YEAR\", col=\"YEAR\", height=4)\\ng.map(hexbin, \"DailySnowfall\", \"DailySnowDepth\", extent=[0,9, 0,9]);'"
      ]
     },
     "execution_count": 10,
     "metadata": {},
     "output_type": "execute_result"
    }
   ],
   "source": [
    "# thinking of different ways to visualize distribution data\n",
    "# snowfall depth and daily snowfall placed in hexbins\n",
    "# intensity of color corresponds to frequency\n",
    "# 2019 is most random due to erratic snowfall\n",
    "# seems like in 2019, snow depth accumulated due to continuous snowfall\n",
    "# snowfall seemeds to be less on a single day and more dispersed in other years\n",
    "\n",
    "'''def hexbin(x, y, color, **kwargs):\n",
    "    cmap = sns.light_palette(color, as_cmap=True, n_colors=100)\n",
    "    plt.hexbin(x, y, gridsize=12, cmap=cmap, **kwargs)\n",
    "\n",
    "with sns.axes_style(\"white\"):\n",
    "    g = sns.FacetGrid(w_df, hue=\"YEAR\", col=\"YEAR\", height=4)\n",
    "g.map(hexbin, \"DailySnowfall\", \"DailySnowDepth\", extent=[0,9, 0,9]);'''"
   ]
  },
  {
   "cell_type": "code",
   "execution_count": 11,
   "metadata": {},
   "outputs": [
    {
     "data": {
      "text/plain": [
       "37.8"
      ]
     },
     "execution_count": 11,
     "metadata": {},
     "output_type": "execute_result"
    },
    {
     "data": {
      "image/png": "[encoded data removed]",
      "text/plain": [
       "<Figure size 432x288 with 1 Axes>"
      ]
     },
     "metadata": {
      "needs_background": "light"
     },
     "output_type": "display_data"
    }
   ],
   "source": [
    "# lets plot the average daily snowfall for each year\n",
    "# this will help us determine which years the city had to plow more intensely\n",
    "# (as a high daily snowfall leads to more accumulated snow after the previous plowing)\n",
    "\n",
    "sns.barplot(x='YEAR', y='DailySnowfall', data=w_df, palette=\"Set3\", estimator=sum, ci=None);\n",
    "a = w_df.loc[w_df['YEAR'] == 2018]\n",
    "a['DailySnowfall'].sum()"
   ]
  },
  {
   "cell_type": "code",
   "execution_count": 12,
   "metadata": {},
   "outputs": [
    {
     "data": {
      "image/png": "[encoded data removed]",
      "text/plain": [
       "<Figure size 432x288 with 1 Axes>"
      ]
     },
     "metadata": {
      "needs_background": "light"
     },
     "output_type": "display_data"
    }
   ],
   "source": [
    "# lets plot the average daily snowdepth for each year\n",
    "# this will also help us determine which years the city had to plow more intensely\n",
    "# hopefully 2019 should be the highest again as it should have the highest snowdepth due to rapid bursts of snowfall\n",
    "\n",
    "sns.barplot(x='YEAR', y='DailySnowDepth', data=w_df, palette=\"Set3\", estimator=sum, ci=None);"
   ]
  },
  {
   "cell_type": "code",
   "execution_count": 67,
   "metadata": {},
   "outputs": [
    {
     "data": {
      "image/png": "[encoded data removed]",
      "text/plain": [
       "<Figure size 432x288 with 1 Axes>"
      ]
     },
     "metadata": {
      "needs_background": "light"
     },
     "output_type": "display_data"
    }
   ],
   "source": [
    "w_df['Date'] = w_df['MONTH'].astype(str)+'/'+w_df['YEAR'].astype(str)\n",
    "a = w_df[['DailySnowfall', 'Date']]\n",
    "a=a.rename(columns={'DailySnowfall': 'amount'})\n",
    "a['type'] = 'snowfall'\n",
    "a\n",
    "\n",
    "b = w_df[['DailySnowDepth', 'Date']]\n",
    "b=b.rename(columns={'DailySnowDepth': 'amount'})\n",
    "b['type'] = 'snow depth'\n",
    "b\n",
    "\n",
    "ts = pd.concat([a,b])\n",
    "ts\n",
    "\n",
    "fig, ax = plt.subplots()\n",
    "x=sns.lineplot(x='Date', y='amount', hue='type', data=ts, legend='full', sort=False, ci=90)\n",
    "for label in x.xaxis.get_ticklabels():\n",
    "    label.set_visible(False)\n",
    "for label in x.xaxis.get_ticklabels()[::6]:\n",
    "    label.set_visible(True)\n",
    "ax.set(ylabel='Amount of snow (in inches)')\n",
    "fig.autofmt_xdate()"
   ]
  },
  {
   "cell_type": "code",
   "execution_count": 75,
   "metadata": {},
   "outputs": [
    {
     "data": {
      "image/png": "[encoded data removed]",
      "text/plain": [
       "<Figure size 432x288 with 1 Axes>"
      ]
     },
     "metadata": {
      "needs_background": "light"
     },
     "output_type": "display_data"
    }
   ],
   "source": [
    "# plotting distribution of city data\n",
    "# want to see if there is a large deviation of amount spent in transactions by a department\n",
    "# we can clearly see that there is a large spread for org 44330 (Plowing)\n",
    "a = sns.barplot(x=\"ORG\", y=\"AMOUNT\", hue=\"YEAR\", data=c_df, estimator=sum, ci=None, palette=\"Set3\");\n",
    "ylabels = ['{:,.0f}'.format(y) + 'K' for y in a.get_yticks()/1000];\n",
    "a.set_yticklabels(ylabels);"
   ]
  },
  {
   "cell_type": "code",
   "execution_count": 15,
   "metadata": {},
   "outputs": [],
   "source": [
    "#sns.barplot(x=\"ORG\", y=\"AMOUNT\", hue=\"YEAR\", data=c_df, col='ORG', estimator=sum);"
   ]
  },
  {
   "cell_type": "code",
   "execution_count": 16,
   "metadata": {},
   "outputs": [
    {
     "data": {
      "text/plain": [
       "22521211.27"
      ]
     },
     "execution_count": 16,
     "metadata": {},
     "output_type": "execute_result"
    }
   ],
   "source": [
    "city_df['AMOUNT'].sum()\n",
    "#plow_df = city_df.loc[city_df['ORG'] == 44330]\n",
    "#plow_df['AMOUNT'].sum()"
   ]
  },
  {
   "cell_type": "code",
   "execution_count": 76,
   "metadata": {},
   "outputs": [
    {
     "data": {
      "image/png": "[encoded data removed]",
      "text/plain": [
       "<Figure size 432x288 with 1 Axes>"
      ]
     },
     "metadata": {
      "needs_background": "light"
     },
     "output_type": "display_data"
    }
   ],
   "source": [
    "# lets focus closer on this department\n",
    "# is there a large variation per year?\n",
    "# we are plotting the average value of each plowing transaction per year\n",
    "# the lines correspond to error bars that give us some insight about the uncertainity regarding each value\n",
    "\n",
    "plow_df = c_df.loc[c_df['ORG'] == 44330]\n",
    "a=sns.barplot(x='YEAR', y='AMOUNT', data=plow_df, palette=\"Set3\", estimator=sum, ci=None);\n",
    "ylabels = ['{:,.0f}'.format(y) + 'K' for y in a.get_yticks()/1000];\n",
    "a.set_yticklabels(ylabels);\n",
    "\n",
    "# this is good since 2019 is the highest\n",
    "# remember that 2019 had the highest average snowfall and snowdepth as well\n",
    "# thus there seems to be a correlation between amount spent on plowing and snowfall"
   ]
  },
  {
   "cell_type": "code",
   "execution_count": 77,
   "metadata": {},
   "outputs": [
    {
     "data": {
      "image/png": "[encoded data removed]",
      "text/plain": [
       "<Figure size 432x288 with 1 Axes>"
      ]
     },
     "metadata": {
      "needs_background": "light"
     },
     "output_type": "display_data"
    }
   ],
   "source": [
    "# now that we have narrowed down the organization to 44330 (which corresponds to Snow Plowing), lets try and get a sense\n",
    "# of how funds are distributed within the organization\n",
    "# a cursory glance at the objects within the organization directed my attention to the snow removal object (54260)\n",
    "# the amount of money spent by this object should ideally follow the same correlation we observed in the previous chart\n",
    "\n",
    "snow_plow_df = plow_df.loc[plow_df['OBJECT'] == 51310]\n",
    "a=sns.barplot(x='YEAR', y='AMOUNT', data=snow_plow_df, palette=\"Set3\", estimator=sum, ci=None);\n",
    "ylabels = ['{:,.0f}'.format(y) + 'K' for y in a.get_yticks()/1000];\n",
    "a.set_yticklabels(ylabels);\n",
    "#a = snow_plow_df.loc[snow_plow_df['YEAR'] == '2018']\n",
    "#a['AMOUNT'].sum()\n",
    "\n",
    "# clearly our assumption was wrong as 2015 had the highest amount instead of 2019"
   ]
  },
  {
   "cell_type": "code",
   "execution_count": 19,
   "metadata": {},
   "outputs": [],
   "source": [
    "# lets try another object. Snow Supplies (53240) seems like a good candidate.\n",
    "# The amount of snowfall should ideally correlate to the amount the city spends on supplies (salt, sand, etc.)\n",
    "\n",
    "#snow_plow_df = plow_df.loc[(plow_df['OBJECT'] == 57141) | (plow_df['OBJECT'] == 53240) | (plow_df['OBJECT'] == 51110) | (plow_df['OBJECT'] == 51310)]\n",
    "#sns.barplot(x='YEAR', y='AMOUNT', data=snow_plow_df, palette=\"Set3\", estimator=sum);\n",
    "\n",
    "# again, this doesn't seem to be correlated at all\n",
    "# a possible explanation for this might be that the city stockpiles supplies in advance?\n",
    "# this would make sense as they would be prepared well in advance for winter"
   ]
  },
  {
   "cell_type": "code",
   "execution_count": 20,
   "metadata": {},
   "outputs": [],
   "source": [
    "# lets try permanent wages next.\n",
    "\n",
    "#snow_plow_df = plow_df.loc[plow_df['OBJECT'] == 51110]\n",
    "#sns.barplot(x='YEAR', y='AMOUNT', data=snow_plow_df, palette=\"Set3\", estimator=sum);\n",
    "\n",
    "# finally we get a clear correlation. There is a big jump from 2018 to 2019 (almost $20k in spending)\n",
    "# this is definitely statistically significant as the data for January only has data up till February.\n",
    "# 2 months of January 2019 resulted in more spending by the city on permanent wages than any other year in our dataset."
   ]
  },
  {
   "cell_type": "code",
   "execution_count": 45,
   "metadata": {},
   "outputs": [],
   "source": [
    "# now that we know that we should focus on wages, I was planning on looking at hourly wages \n",
    "# however the last data entry for hourly wages was in 2018 so I assume that it doesn't factor in the analysis\n",
    "\n",
    "#sns.countplot(x='YEAR', data=snow_plow_df, palette=\"Set3\");\n",
    "wr_df = w_df\n",
    "wr_df['Date'] = w_df['YEAR'].astype(str)+'/'+w_df['MONTH'].astype(str)\n",
    "wr_df=wr_df.groupby(['Date'])['DailySnowfall'].sum().reset_index()\n",
    "cr_df =c_df\n",
    "cr_df['Date'] = c_df['YEAR'].astype(str)+'/'+c_df['MONTH'].astype(str)\n",
    "cr_df = cr_df.loc[cr_df['OBJECT'] == 51310]\n",
    "cr_df=cr_df.groupby(['Date'])['AMOUNT'].sum().reset_index()\n",
    "\n",
    "r_df = pd.merge(wr_df, cr_df, on='Date')\n",
    "r_df['MONTH'] = r_df['Date'].str.slice(start=5)\n",
    "r_df=r_df.rename(columns={'AMOUNT': 'Amount spent on hourly overtime wages', 'DailySnowfall': 'Amount of snow (in inches)'})\n",
    "#r_df\n",
    "#print (r_df['DailySnowfall'].to_string(index=False))\n",
    "# 2019 has 5 entries yet already has more spending on permanent wages than any other year"
   ]
  },
  {
   "cell_type": "code",
   "execution_count": 78,
   "metadata": {},
   "outputs": [
    {
     "data": {
      "image/png": "[encoded data removed]",
      "text/plain": [
       "<Figure size 432x288 with 1 Axes>"
      ]
     },
     "metadata": {
      "needs_background": "light"
     },
     "output_type": "display_data"
    }
   ],
   "source": [
    "#d = {'snowfall': [32.2, 36.4, 25.1, 37.8], 'spending': [373190, 403084, 347506, 407097], 'year': [2015, 2016, 2017, 2018]}\n",
    "#df = pd.DataFrame(data=d)\n",
    "#sns.regplot(x='snowfall', y='spending', data=df, scatter_kws={\"s\":80}, order=2, ci=None, truncate=True)\n",
    "a=sns.regplot(x='Amount of snow (in inches)', y='Amount spent on hourly overtime wages', data=r_df, ci=None, truncate=True);\n",
    "ylabels = ['{:,.0f}'.format(y) + 'K' for y in a.get_yticks()/1000];\n",
    "a.set_yticklabels(ylabels);"
   ]
  },
  {
   "cell_type": "code",
   "execution_count": 48,
   "metadata": {},
   "outputs": [
    {
     "data": {
      "text/html": [
       "<div>\n",
       "<style scoped>\n",
       "    .dataframe tbody tr th:only-of-type {\n",
       "        vertical-align: middle;\n",
       "    }\n",
       "\n",
       "    .dataframe tbody tr th {\n",
       "        vertical-align: top;\n",
       "    }\n",
       "\n",
       "    .dataframe thead th {\n",
       "        text-align: right;\n",
       "    }\n",
       "</style>\n",
       "<table border=\"1\" class=\"dataframe\">\n",
       "  <thead>\n",
       "    <tr style=\"text-align: right;\">\n",
       "      <th></th>\n",
       "      <th>Month</th>\n",
       "      <th>Amount of snow (in inches)</th>\n",
       "      <th>Predicted spending on overtime wages</th>\n",
       "      <th>Actual spending on overtime wages</th>\n",
       "    </tr>\n",
       "  </thead>\n",
       "  <tbody>\n",
       "    <tr>\n",
       "      <th>0</th>\n",
       "      <td>2019/01</td>\n",
       "      <td>19.7</td>\n",
       "      <td>211983.062575</td>\n",
       "      <td>63845.18</td>\n",
       "    </tr>\n",
       "    <tr>\n",
       "      <th>1</th>\n",
       "      <td>2019/02</td>\n",
       "      <td>22.5</td>\n",
       "      <td>241123.002915</td>\n",
       "      <td>283203.00</td>\n",
       "    </tr>\n",
       "  </tbody>\n",
       "</table>\n",
       "</div>"
      ],
      "text/plain": [
       "     Month  Amount of snow (in inches)  Predicted spending on overtime wages  \\\n",
       "0  2019/01                        19.7                         211983.062575   \n",
       "1  2019/02                        22.5                         241123.002915   \n",
       "\n",
       "   Actual spending on overtime wages  \n",
       "0                           63845.18  \n",
       "1                          283203.00  "
      ]
     },
     "execution_count": 48,
     "metadata": {},
     "output_type": "execute_result"
    }
   ],
   "source": [
    "#snow_2019 = r_df['Amount of snow (in inches)']\n",
    "#spend_2019 = snow_2019*10407.12155 + 6962.76804\n",
    "#spend_2019\n",
    "spend_2019 = city_df[['ORG', 'OBJECT', 'DESCRIPTION', 'YEAR', 'MONTH', 'AMOUNT', 'EFF DATE']]\n",
    "spend_2019 = spend_2019.drop(spend_2019[spend_2019.YEAR == '2018'].index)\n",
    "spend_2019 = spend_2019.drop(spend_2019[spend_2019.YEAR == '2017'].index)\n",
    "spend_2019 = spend_2019.drop(spend_2019[spend_2019.YEAR == '2016'].index)\n",
    "spend_2019 = spend_2019.drop(spend_2019[spend_2019.YEAR == '2015'].index)\n",
    "spend_2019['Date'] = spend_2019['YEAR'].astype(str)+'/'+spend_2019['MONTH'].astype(str)\n",
    "spend_2019 = spend_2019.loc[spend_2019['OBJECT'] == 51310]\n",
    "spend_2019=spend_2019.groupby(['Date'])['AMOUNT'].sum().reset_index()\n",
    "snow_2019 = weather_df[['DailySnowfall', \"DailySnowDepth\", \"MONTH\", \"YEAR\", \"DATE\"]]\n",
    "snow_2019 = snow_2019.drop(snow_2019[snow_2019.YEAR == 2018].index)\n",
    "snow_2019 = snow_2019.drop(snow_2019[snow_2019.YEAR == 2017].index)\n",
    "snow_2019 = snow_2019.drop(snow_2019[snow_2019.YEAR == 2016].index)\n",
    "snow_2019 = snow_2019.drop(snow_2019[snow_2019.YEAR == 2015].index)\n",
    "snow_2019['Date'] = snow_2019['YEAR'].astype(str)+'/'+snow_2019['MONTH'].astype(str)\n",
    "snow_2019=snow_2019.groupby(['Date'])['DailySnowfall'].sum().reset_index()\n",
    "snow_2019=snow_2019.drop(2)\n",
    "snow_2019['Predicted'] = 10407.12155*snow_2019['DailySnowfall'] + 6962.76804\n",
    "combined_df = pd.merge(snow_2019, spend_2019, on='Date')\n",
    "combined_df=combined_df.rename(columns={'Date': 'Month', 'DailySnowfall': 'Amount of snow (in inches)', 'Predicted': 'Predicted spending on overtime wages', 'AMOUNT': 'Actual spending on overtime wages'})\n",
    "combined_df['Error'] = pd.Series(np.array([])"
   ]
  },
  {
   "cell_type": "code",
   "execution_count": 61,
   "metadata": {},
   "outputs": [],
   "source": [
    "#sns.barplot(x='Month', y='Amount of snow (in inches)', data=combined_df);"
   ]
  },
  {
   "cell_type": "code",
   "execution_count": 62,
   "metadata": {},
   "outputs": [],
   "source": [
    "#sns.barplot(x='Month', y='Actual spending on overtime wages', data=combined_df);"
   ]
  },
  {
   "cell_type": "code",
   "execution_count": 63,
   "metadata": {},
   "outputs": [],
   "source": [
    "#sns.barplot(x='Month', y='Predicted spending on overtime wages', data=combined_df);"
   ]
  }
 ],
 "metadata": {
  "kernelspec": {
   "display_name": "Python 3",
   "language": "python",
   "name": "python3"
  },
  "language_info": {
   "codemirror_mode": {
    "name": "ipython",
    "version": 3
   },
   "file_extension": ".py",
   "mimetype": "text/x-python",
   "name": "python",
   "nbconvert_exporter": "python",
   "pygments_lexer": "ipython3",
   "version": "3.6.7"
  }
 },
 "nbformat": 4,
 "nbformat_minor": 2
}
